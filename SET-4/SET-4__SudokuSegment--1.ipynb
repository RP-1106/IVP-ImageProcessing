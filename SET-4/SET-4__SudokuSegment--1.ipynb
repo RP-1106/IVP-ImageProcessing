{
 "cells": [
  {
   "cell_type": "code",
   "execution_count": 1,
   "id": "29c207eb",
   "metadata": {},
   "outputs": [],
   "source": [
    "import numpy as np\n",
    "import matplotlib.pyplot as plt\n",
    "import cv2"
   ]
  },
  {
   "cell_type": "code",
   "execution_count": 2,
   "id": "0a67d8f0",
   "metadata": {},
   "outputs": [],
   "source": [
    "image_url = \"image1083.jpg\""
   ]
  },
  {
   "cell_type": "code",
   "execution_count": 3,
   "id": "3c2c968c",
   "metadata": {},
   "outputs": [],
   "source": [
    "img = cv2.imread(image_url, cv2.IMREAD_GRAYSCALE)"
   ]
  },
  {
   "cell_type": "code",
   "execution_count": 4,
   "id": "b339e166",
   "metadata": {},
   "outputs": [],
   "source": [
    "proc = cv2.GaussianBlur(img.copy(), (9, 9), 0)"
   ]
  },
  {
   "cell_type": "code",
   "execution_count": 5,
   "id": "d7686cfc",
   "metadata": {},
   "outputs": [],
   "source": [
    "# cv2.adaptiveThreshold(src, maxValue, adaptiveMethod, thresholdType, blockSize, constant(c))\n",
    "# blockSize – Size of a pixel neighborhood that is used to calculate a threshold value for the pixel: 3, 5, 7, and so on.\n",
    "# C – Constant subtracted from the mean or weighted mean (see the details below). Normally, it is positive but may be zero or negative as well.\n",
    "process = cv2.adaptiveThreshold(proc, 255, cv2.ADAPTIVE_THRESH_GAUSSIAN_C, cv2.THRESH_BINARY, 11, 2)"
   ]
  },
  {
   "cell_type": "code",
   "execution_count": 6,
   "id": "6039a3b1",
   "metadata": {},
   "outputs": [],
   "source": [
    "process = cv2.bitwise_not(process, process)"
   ]
  },
  {
   "cell_type": "code",
   "execution_count": 7,
   "id": "aae91afd",
   "metadata": {},
   "outputs": [],
   "source": [
    "# np.uint8 will wrap. \n",
    "# For example, 235+30 = 9.\n",
    "kernel = np.array([[0., 1., 0.], [1., 1., 1.], [0., 1., 0.]], np.uint8)\n",
    "process = cv2.dilate(process, kernel)"
   ]
  },
  {
   "cell_type": "code",
   "execution_count": 8,
   "id": "b7a0c969",
   "metadata": {},
   "outputs": [
    {
     "ename": "SyntaxError",
     "evalue": "'return' outside function (2058736300.py, line 6)",
     "output_type": "error",
     "traceback": [
      "\u001b[1;36m  Cell \u001b[1;32mIn[8], line 6\u001b[1;36m\u001b[0m\n\u001b[1;33m    return approx\u001b[0m\n\u001b[1;37m    ^\u001b[0m\n\u001b[1;31mSyntaxError\u001b[0m\u001b[1;31m:\u001b[0m 'return' outside function\n"
     ]
    }
   ],
   "source": [
    "for c in ext_contours:\n",
    "    peri = cv2.arcLength(c, True)\n",
    "    approx = cv2.approxPolyDP(c, 0.015 * peri, True)\n",
    "    if len(approx) == 4:\n",
    "        # Here we are looking for the largest 4 sided contour\n",
    "        return approx"
   ]
  },
  {
   "cell_type": "code",
   "execution_count": null,
   "id": "7426e4f7",
   "metadata": {},
   "outputs": [],
   "source": [
    "peri = cv2.arcLength(c, True)\n",
    "approx = cv2.approxPolyDP(c, 0.015 * peri, True)\n",
    "if len(approx) == 4:\n",
    "    # Here we are looking for the largest 4 sided contour\n",
    "    return approx\n",
    "# approx has the "
   ]
  },
  {
   "cell_type": "code",
   "execution_count": null,
   "id": "f1bc9e90",
   "metadata": {},
   "outputs": [],
   "source": [
    "# Extracting the points\n",
    "corners = [(corner[0][0], corner[0][1]) for corner in corners]\n",
    "top_r, top_l, bottom_l, bottom_r = corners[0], corners[1], corners[2], corners[3]\n",
    "return top_l, top_r, bottom_r, bottom_l\n",
    "# Index 0 - top-right\n",
    "#       1 - top-left\n",
    "#       2 - bottom-left\n",
    "#       3 - bottom-right"
   ]
  },
  {
   "cell_type": "code",
   "execution_count": null,
   "id": "9ffeaf38",
   "metadata": {},
   "outputs": [],
   "source": [
    "bottom_right, _ = max(enumerate([pt[0][0] + pt[0][1] for pt in\n",
    "                                 ext_contours[0]]), key=operator.itemgetter(1))\n",
    "top_left, _ = min(enumerate([pt[0][0] + pt[0][1] for pt in\n",
    "                            ext_contours[0]]), key=operator.itemgetter(1))\n",
    "bottom_left, _ = min(enumerate([pt[0][0] - pt[0][1] for pt in\n",
    "                                ext_contours[0]]), key=operator.itemgetter(1))\n",
    "top_right, _ = max(enumerate([pt[0][0] - pt[0][1] for pt in\n",
    "                              ext_contours[0]]), key=operator.itemgetter(1))"
   ]
  },
  {
   "cell_type": "code",
   "execution_count": null,
   "id": "b89e1148",
   "metadata": {},
   "outputs": [],
   "source": [
    "width_A = np.sqrt(((bottom_r[0] - bottom_l[0]) ** 2) + ((bottom_r[1] - bottom_l[1]) ** 2))\n",
    "width_B = np.sqrt(((top_r[0] - top_l[0]) ** 2) + ((top_r[1] - top_l[1]) ** 2))\n",
    "width = max(int(width_A), int(width_B))"
   ]
  },
  {
   "cell_type": "code",
   "execution_count": null,
   "id": "f6e6a778",
   "metadata": {},
   "outputs": [],
   "source": [
    "height_A = np.sqrt(((top_r[0] - bottom_r[0]) ** 2) + ((top_r[1] - bottom_r[1]) ** 2))\n",
    "height_B = np.sqrt(((top_l[0] - bottom_l[0]) ** 2) + ((top_l[1] - bottom_l[1]) ** 2))\n",
    "height = max(int(height_A), int(height_B))"
   ]
  },
  {
   "cell_type": "code",
   "execution_count": null,
   "id": "94c0fbda",
   "metadata": {},
   "outputs": [],
   "source": [
    "dimensions = np.array([[0, 0], [width - 1, 0], [width - 1, height - 1],\n",
    "                       [0, height - 1]], dtype=\"float32\")\n",
    "# Convert to Numpy format\n",
    "ordered_corners = np.array(ordered_corners, dtype=\"float32\")\n",
    "# calculate the perspective transform matrix and warp\n",
    "# the perspective to grab the screen\n",
    "grid = cv2.getPerspectiveTransform(ordered_corners, dimensions)\n",
    "return cv2.warpPerspective(image, grid, (width, height))"
   ]
  },
  {
   "cell_type": "code",
   "execution_count": null,
   "id": "64cbe200",
   "metadata": {},
   "outputs": [],
   "source": [
    "# here grid is the cropped image\n",
    "grid = cv2.cvtColor(grid, cv2.COLOR_BGR2GRAY) # VERY IMPORTANT\n",
    "# Adaptive thresholding the cropped grid and inverting it\n",
    "grid = cv2.bitwise_not(cv2.adaptiveThreshold(grid, 255, cv2.ADAPTIVE_THRESH_GAUSSIAN_C, cv2.THRESH_BINARY, 101, 1))"
   ]
  },
  {
   "cell_type": "code",
   "execution_count": null,
   "id": "b9724be1",
   "metadata": {},
   "outputs": [],
   "source": [
    "edge_h = np.shape(grid)[0]\n",
    "edge_w = np.shape(grid)[1]\n",
    "celledge_h = edge_h // 9\n",
    "celledge_w = np.shape(grid)[1] // 9"
   ]
  },
  {
   "cell_type": "code",
   "execution_count": null,
   "id": "ecd32104",
   "metadata": {},
   "outputs": [],
   "source": [
    "tempgrid = []\n",
    "for i in range(celledge_h, edge_h + 1, celledge_h):\n",
    "    for j in range(celledge_w, edge_w + 1, celledge_w):\n",
    "        rows = grid[i - celledge_h:i]\n",
    "        tempgrid.append([rows[k][j - celledge_w:j] for k in range(len(rows))])"
   ]
  },
  {
   "cell_type": "code",
   "execution_count": null,
   "id": "6fe676dd",
   "metadata": {},
   "outputs": [],
   "source": [
    "# Creating the 9X9 grid of images\n",
    "finalgrid = []\n",
    "for i in range(0, len(tempgrid) - 8, 9):\n",
    "    finalgrid.append(tempgrid[i:i + 9])\n",
    "# Converting all the cell images to np.array\n",
    "for i in range(9):\n",
    "    for j in range(9):\n",
    "        finalgrid[i][j] = np.array(finalgrid[i][j])\n",
    "try:\n",
    "    for i in range(9):\n",
    "        for j in range(9):\n",
    "            os.remove(\"BoardCells/cell\" + str(i) + str(j) + \".jpg\")\n",
    "except:\n",
    "    pass\n",
    "for i in range(9):\n",
    "    for j in range(9):\n",
    "        cv2.imwrite(str(\"BoardCells/cell\" + str(i) + str(j) + \".jpg\"), finalgrid[i][j])\n",
    "return finalgrid"
   ]
  },
  {
   "cell_type": "code",
   "execution_count": null,
   "id": "fadf4209",
   "metadata": {},
   "outputs": [],
   "source": []
  },
  {
   "cell_type": "code",
   "execution_count": null,
   "id": "8b9a7ad8",
   "metadata": {},
   "outputs": [],
   "source": []
  },
  {
   "cell_type": "code",
   "execution_count": null,
   "id": "30320a28",
   "metadata": {},
   "outputs": [],
   "source": []
  }
 ],
 "metadata": {
  "kernelspec": {
   "display_name": "Python 3 (ipykernel)",
   "language": "python",
   "name": "python3"
  },
  "language_info": {
   "codemirror_mode": {
    "name": "ipython",
    "version": 3
   },
   "file_extension": ".py",
   "mimetype": "text/x-python",
   "name": "python",
   "nbconvert_exporter": "python",
   "pygments_lexer": "ipython3",
   "version": "3.10.9"
  }
 },
 "nbformat": 4,
 "nbformat_minor": 5
}
